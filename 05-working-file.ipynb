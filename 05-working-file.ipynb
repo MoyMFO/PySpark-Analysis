{
 "cells": [
  {
   "cell_type": "code",
   "execution_count": 1,
   "metadata": {},
   "outputs": [],
   "source": [
    "from pyspark.sql import SparkSession"
   ]
  },
  {
   "cell_type": "code",
   "execution_count": 2,
   "metadata": {},
   "outputs": [],
   "source": [
    "spark = SparkSession.builder.appName('Missing').getOrCreate()"
   ]
  },
  {
   "cell_type": "code",
   "execution_count": 3,
   "metadata": {},
   "outputs": [],
   "source": [
    "# Read dataset\n",
    "training = spark.read.csv('data3.csv', header=True, inferSchema=True)"
   ]
  },
  {
   "cell_type": "code",
   "execution_count": 4,
   "metadata": {},
   "outputs": [
    {
     "name": "stdout",
     "output_type": "stream",
     "text": [
      "+-------+---+----------+------+\n",
      "|   Name|Age|Experience|Salary|\n",
      "+-------+---+----------+------+\n",
      "| Moises| 22|        10| 24893|\n",
      "|   Luis| 18|         4| 12064|\n",
      "|  Karla| 30|         2| 30548|\n",
      "|  Maria| 55|        23| 32637|\n",
      "|   Jose| 51|         8| 19511|\n",
      "|    Luz| 35|         4| 38491|\n",
      "|Enrique| 23|         4| 29000|\n",
      "|Liliana| 54|        19| 34999|\n",
      "|  Julia| 32|        10| 20000|\n",
      "+-------+---+----------+------+\n",
      "\n"
     ]
    }
   ],
   "source": [
    "training.show()"
   ]
  },
  {
   "cell_type": "code",
   "execution_count": 5,
   "metadata": {},
   "outputs": [
    {
     "name": "stdout",
     "output_type": "stream",
     "text": [
      "root\n",
      " |-- Name: string (nullable = true)\n",
      " |-- Age: integer (nullable = true)\n",
      " |-- Experience: integer (nullable = true)\n",
      " |-- Salary: integer (nullable = true)\n",
      "\n"
     ]
    }
   ],
   "source": [
    "training.printSchema()"
   ]
  },
  {
   "cell_type": "code",
   "execution_count": 6,
   "metadata": {},
   "outputs": [],
   "source": [
    "from pyspark.ml.feature import VectorAssembler\n",
    "featureassembler=VectorAssembler(inputCols=['Age', 'Experience'], outputCol='Independet Feature')"
   ]
  },
  {
   "cell_type": "code",
   "execution_count": 7,
   "metadata": {},
   "outputs": [],
   "source": [
    "output = featureassembler.transform(training)"
   ]
  },
  {
   "cell_type": "code",
   "execution_count": 8,
   "metadata": {},
   "outputs": [
    {
     "name": "stdout",
     "output_type": "stream",
     "text": [
      "+-------+---+----------+------+------------------+\n",
      "|   Name|Age|Experience|Salary|Independet Feature|\n",
      "+-------+---+----------+------+------------------+\n",
      "| Moises| 22|        10| 24893|       [22.0,10.0]|\n",
      "|   Luis| 18|         4| 12064|        [18.0,4.0]|\n",
      "|  Karla| 30|         2| 30548|        [30.0,2.0]|\n",
      "|  Maria| 55|        23| 32637|       [55.0,23.0]|\n",
      "|   Jose| 51|         8| 19511|        [51.0,8.0]|\n",
      "|    Luz| 35|         4| 38491|        [35.0,4.0]|\n",
      "|Enrique| 23|         4| 29000|        [23.0,4.0]|\n",
      "|Liliana| 54|        19| 34999|       [54.0,19.0]|\n",
      "|  Julia| 32|        10| 20000|       [32.0,10.0]|\n",
      "+-------+---+----------+------+------------------+\n",
      "\n"
     ]
    }
   ],
   "source": [
    "output.show()"
   ]
  },
  {
   "cell_type": "code",
   "execution_count": 9,
   "metadata": {},
   "outputs": [
    {
     "data": {
      "text/plain": [
       "['Name', 'Age', 'Experience', 'Salary', 'Independet Feature']"
      ]
     },
     "execution_count": 9,
     "metadata": {},
     "output_type": "execute_result"
    }
   ],
   "source": [
    "output.columns"
   ]
  },
  {
   "cell_type": "code",
   "execution_count": 10,
   "metadata": {},
   "outputs": [],
   "source": [
    "finalized_data = output.select('Independet Feature', 'Salary')"
   ]
  },
  {
   "cell_type": "code",
   "execution_count": 11,
   "metadata": {},
   "outputs": [
    {
     "name": "stdout",
     "output_type": "stream",
     "text": [
      "+------------------+------+\n",
      "|Independet Feature|Salary|\n",
      "+------------------+------+\n",
      "|       [22.0,10.0]| 24893|\n",
      "|        [18.0,4.0]| 12064|\n",
      "|        [30.0,2.0]| 30548|\n",
      "|       [55.0,23.0]| 32637|\n",
      "|        [51.0,8.0]| 19511|\n",
      "|        [35.0,4.0]| 38491|\n",
      "|        [23.0,4.0]| 29000|\n",
      "|       [54.0,19.0]| 34999|\n",
      "|       [32.0,10.0]| 20000|\n",
      "+------------------+------+\n",
      "\n"
     ]
    }
   ],
   "source": [
    "finalized_data.show()"
   ]
  },
  {
   "cell_type": "code",
   "execution_count": 12,
   "metadata": {},
   "outputs": [],
   "source": [
    "from pyspark.ml.regression import LinearRegression\n",
    "train_data, test_data = finalized_data.randomSplit([0.75, 0.25])\n",
    "regressor = LinearRegression(featuresCol='Independet Feature', labelCol='Salary')\n",
    "regressor=regressor.fit(train_data)"
   ]
  },
  {
   "cell_type": "code",
   "execution_count": 13,
   "metadata": {},
   "outputs": [
    {
     "data": {
      "text/plain": [
       "DenseVector([844.7144, -954.0694])"
      ]
     },
     "execution_count": 13,
     "metadata": {},
     "output_type": "execute_result"
    }
   ],
   "source": [
    "### Coefficients\n",
    "regressor.coefficients"
   ]
  },
  {
   "cell_type": "code",
   "execution_count": 14,
   "metadata": {},
   "outputs": [
    {
     "data": {
      "text/plain": [
       "8628.764150895666"
      ]
     },
     "execution_count": 14,
     "metadata": {},
     "output_type": "execute_result"
    }
   ],
   "source": [
    "### Intercepts\n",
    "regressor.intercept"
   ]
  },
  {
   "cell_type": "code",
   "execution_count": 15,
   "metadata": {},
   "outputs": [],
   "source": [
    "### Prediction\n",
    "pred_results=regressor.evaluate(test_data)"
   ]
  },
  {
   "cell_type": "code",
   "execution_count": 16,
   "metadata": {},
   "outputs": [
    {
     "name": "stdout",
     "output_type": "stream",
     "text": [
      "+------------------+------+-----------------+\n",
      "|Independet Feature|Salary|       prediction|\n",
      "+------------------+------+-----------------+\n",
      "|        [51.0,8.0]| 19511|44076.64582402617|\n",
      "|       [54.0,19.0]| 34999|36116.02591327207|\n",
      "+------------------+------+-----------------+\n",
      "\n"
     ]
    }
   ],
   "source": [
    "pred_results.predictions.show()"
   ]
  },
  {
   "cell_type": "code",
   "execution_count": 17,
   "metadata": {},
   "outputs": [
    {
     "data": {
      "text/plain": [
       "12841.33586864912"
      ]
     },
     "execution_count": 17,
     "metadata": {},
     "output_type": "execute_result"
    }
   ],
   "source": [
    "pred_results.meanAbsoluteError"
   ]
  },
  {
   "cell_type": "code",
   "execution_count": null,
   "metadata": {},
   "outputs": [],
   "source": []
  }
 ],
 "metadata": {
  "kernelspec": {
   "display_name": "Python 3.9.7 ('venv': venv)",
   "language": "python",
   "name": "python3"
  },
  "language_info": {
   "codemirror_mode": {
    "name": "ipython",
    "version": 3
   },
   "file_extension": ".py",
   "mimetype": "text/x-python",
   "name": "python",
   "nbconvert_exporter": "python",
   "pygments_lexer": "ipython3",
   "version": "3.9.7"
  },
  "orig_nbformat": 4,
  "vscode": {
   "interpreter": {
    "hash": "23eb4677275e9514abaf083c3f6e9a6fef94fc3306db5254a55a5492aacaf206"
   }
  }
 },
 "nbformat": 4,
 "nbformat_minor": 2
}
