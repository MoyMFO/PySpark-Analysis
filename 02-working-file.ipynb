{
 "cells": [
  {
   "cell_type": "code",
   "execution_count": 5,
   "metadata": {},
   "outputs": [],
   "source": [
    "import pyspark\n",
    "from pyspark.sql import SparkSession"
   ]
  },
  {
   "cell_type": "code",
   "execution_count": 6,
   "metadata": {},
   "outputs": [],
   "source": [
    "# Create Spark Session\n",
    "spark = SparkSession.builder.appName('Practice').getOrCreate()"
   ]
  },
  {
   "cell_type": "code",
   "execution_count": 7,
   "metadata": {},
   "outputs": [
    {
     "name": "stdout",
     "output_type": "stream",
     "text": [
      "+------+----+----------+------+\n",
      "|  Name| Age|Experience|Salary|\n",
      "+------+----+----------+------+\n",
      "|Moises|  22|        10| 24893|\n",
      "|  Luis|  18|         4| 12064|\n",
      "| Karla|  30|         2| 30548|\n",
      "| Maria|  55|        23| 32637|\n",
      "|  Jose|  51|         8| 19511|\n",
      "|   Luz|  35|         4| 38491|\n",
      "| Pedro|null|      null| 30000|\n",
      "|  null|  34|        10| 38000|\n",
      "|  null|  36|      null|  null|\n",
      "+------+----+----------+------+\n",
      "\n"
     ]
    }
   ],
   "source": [
    "df_spark=spark.read.csv('data1.csv', header=True, inferSchema=True)\n",
    "df_spark.show()"
   ]
  },
  {
   "cell_type": "code",
   "execution_count": 9,
   "metadata": {},
   "outputs": [
    {
     "name": "stdout",
     "output_type": "stream",
     "text": [
      "+----+----------+------+\n",
      "| Age|Experience|Salary|\n",
      "+----+----------+------+\n",
      "|  22|        10| 24893|\n",
      "|  18|         4| 12064|\n",
      "|  30|         2| 30548|\n",
      "|  55|        23| 32637|\n",
      "|  51|         8| 19511|\n",
      "|  35|         4| 38491|\n",
      "|null|      null| 30000|\n",
      "|  34|        10| 38000|\n",
      "|  36|      null|  null|\n",
      "+----+----------+------+\n",
      "\n"
     ]
    }
   ],
   "source": [
    "# -- Drop the columns\n",
    "df_spark.drop('Name').show()"
   ]
  },
  {
   "cell_type": "code",
   "execution_count": 10,
   "metadata": {},
   "outputs": [
    {
     "name": "stdout",
     "output_type": "stream",
     "text": [
      "+------+---+----------+------+\n",
      "|  Name|Age|Experience|Salary|\n",
      "+------+---+----------+------+\n",
      "|Moises| 22|        10| 24893|\n",
      "|  Luis| 18|         4| 12064|\n",
      "| Karla| 30|         2| 30548|\n",
      "| Maria| 55|        23| 32637|\n",
      "|  Jose| 51|         8| 19511|\n",
      "|   Luz| 35|         4| 38491|\n",
      "+------+---+----------+------+\n",
      "\n"
     ]
    }
   ],
   "source": [
    "# -- Drop rows\n",
    "df_spark.na.drop().show()"
   ]
  },
  {
   "cell_type": "code",
   "execution_count": 12,
   "metadata": {},
   "outputs": [
    {
     "name": "stdout",
     "output_type": "stream",
     "text": [
      "+------+---+----------+------+\n",
      "|  Name|Age|Experience|Salary|\n",
      "+------+---+----------+------+\n",
      "|Moises| 22|        10| 24893|\n",
      "|  Luis| 18|         4| 12064|\n",
      "| Karla| 30|         2| 30548|\n",
      "| Maria| 55|        23| 32637|\n",
      "|  Jose| 51|         8| 19511|\n",
      "|   Luz| 35|         4| 38491|\n",
      "+------+---+----------+------+\n",
      "\n"
     ]
    }
   ],
   "source": [
    "# -- any==how\n",
    "df_spark.na.drop(how='any').show()"
   ]
  },
  {
   "cell_type": "code",
   "execution_count": 13,
   "metadata": {},
   "outputs": [
    {
     "name": "stdout",
     "output_type": "stream",
     "text": [
      "+------+----+----------+------+\n",
      "|  Name| Age|Experience|Salary|\n",
      "+------+----+----------+------+\n",
      "|Moises|  22|        10| 24893|\n",
      "|  Luis|  18|         4| 12064|\n",
      "| Karla|  30|         2| 30548|\n",
      "| Maria|  55|        23| 32637|\n",
      "|  Jose|  51|         8| 19511|\n",
      "|   Luz|  35|         4| 38491|\n",
      "| Pedro|null|      null| 30000|\n",
      "|  null|  34|        10| 38000|\n",
      "+------+----+----------+------+\n",
      "\n"
     ]
    }
   ],
   "source": [
    "# -- threshold\n",
    "df_spark.na.drop(how='any', thresh=2).show()"
   ]
  },
  {
   "cell_type": "code",
   "execution_count": 14,
   "metadata": {},
   "outputs": [
    {
     "name": "stdout",
     "output_type": "stream",
     "text": [
      "+------+---+----------+------+\n",
      "|  Name|Age|Experience|Salary|\n",
      "+------+---+----------+------+\n",
      "|Moises| 22|        10| 24893|\n",
      "|  Luis| 18|         4| 12064|\n",
      "| Karla| 30|         2| 30548|\n",
      "| Maria| 55|        23| 32637|\n",
      "|  Jose| 51|         8| 19511|\n",
      "|   Luz| 35|         4| 38491|\n",
      "|  null| 34|        10| 38000|\n",
      "+------+---+----------+------+\n",
      "\n"
     ]
    }
   ],
   "source": [
    "# -- Subset\n",
    "df_spark.na.drop(how='any', subset=['Experience']).show()"
   ]
  },
  {
   "cell_type": "code",
   "execution_count": 21,
   "metadata": {},
   "outputs": [
    {
     "name": "stdout",
     "output_type": "stream",
     "text": [
      "+------+---+----------+------+\n",
      "|  Name|Age|Experience|Salary|\n",
      "+------+---+----------+------+\n",
      "|Moises| 22|        10| 24893|\n",
      "|  Luis| 18|         4| 12064|\n",
      "| Karla| 30|         2| 30548|\n",
      "| Maria| 55|        23| 32637|\n",
      "|  Jose| 51|         8| 19511|\n",
      "|   Luz| 35|         4| 38491|\n",
      "| Pedro| 20|        20| 30000|\n",
      "|  null| 34|        10| 38000|\n",
      "|  null| 36|        20|  null|\n",
      "+------+---+----------+------+\n",
      "\n"
     ]
    }
   ],
   "source": [
    "# -- Fill the missing value\n",
    "df_spark.na.fill(20, ['Experience', 'age']).show()"
   ]
  },
  {
   "cell_type": "code",
   "execution_count": null,
   "metadata": {},
   "outputs": [],
   "source": []
  },
  {
   "cell_type": "code",
   "execution_count": null,
   "metadata": {},
   "outputs": [],
   "source": []
  },
  {
   "cell_type": "code",
   "execution_count": null,
   "metadata": {},
   "outputs": [],
   "source": []
  },
  {
   "cell_type": "code",
   "execution_count": null,
   "metadata": {},
   "outputs": [],
   "source": []
  },
  {
   "cell_type": "code",
   "execution_count": null,
   "metadata": {},
   "outputs": [],
   "source": []
  }
 ],
 "metadata": {
  "kernelspec": {
   "display_name": "Python 3.9.7 ('venv': venv)",
   "language": "python",
   "name": "python3"
  },
  "language_info": {
   "codemirror_mode": {
    "name": "ipython",
    "version": 3
   },
   "file_extension": ".py",
   "mimetype": "text/x-python",
   "name": "python",
   "nbconvert_exporter": "python",
   "pygments_lexer": "ipython3",
   "version": "3.9.7"
  },
  "orig_nbformat": 4,
  "vscode": {
   "interpreter": {
    "hash": "23eb4677275e9514abaf083c3f6e9a6fef94fc3306db5254a55a5492aacaf206"
   }
  }
 },
 "nbformat": 4,
 "nbformat_minor": 2
}
